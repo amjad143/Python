{
 "cells": [
  {
   "cell_type": "code",
   "execution_count": 1,
   "id": "1ee446ad",
   "metadata": {},
   "outputs": [
    {
     "name": "stdout",
     "output_type": "stream",
     "text": [
      "FTP Server is running on ports:[] Is the server onlineTrue\n"
     ]
    }
   ],
   "source": [
    "port = []\n",
    "string = \"FTP Server is running on ports:\"\n",
    "string2 = \" Is the server online\"\n",
    "online = True\n",
    "print(string + str(port) + string2 + str(online))"
   ]
  },
  {
   "cell_type": "code",
   "execution_count": 2,
   "id": "d5298c1f",
   "metadata": {},
   "outputs": [
    {
     "name": "stdout",
     "output_type": "stream",
     "text": [
      "FTP Server is running on ports:[21, 21, 22, 83] Is the server onlineTrue\n"
     ]
    }
   ],
   "source": [
    "port.append(21)\n",
    "port.append(21)\n",
    "port.append(22)\n",
    "port.append(83)\n",
    "print(string + str(port) + string2 + str(online))"
   ]
  },
  {
   "cell_type": "code",
   "execution_count": 3,
   "id": "24e09754",
   "metadata": {},
   "outputs": [
    {
     "name": "stdout",
     "output_type": "stream",
     "text": [
      "FTP Server is running on ports:[21, 21, 22] Is the server onlineTrue\n"
     ]
    }
   ],
   "source": [
    "port.remove(83)\n",
    "print(string + str(port) + string2 + str(online))"
   ]
  },
  {
   "cell_type": "code",
   "execution_count": 4,
   "id": "650ee1e2",
   "metadata": {},
   "outputs": [
    {
     "name": "stdout",
     "output_type": "stream",
     "text": [
      "Our list has 2 Elements\n"
     ]
    }
   ],
   "source": [
    "print(\"Our list has \" + str(port.count(21)) + \" Elements\")"
   ]
  },
  {
   "cell_type": "code",
   "execution_count": 5,
   "id": "99093ae1",
   "metadata": {},
   "outputs": [
    {
     "name": "stdout",
     "output_type": "stream",
     "text": [
      "3\n"
     ]
    }
   ],
   "source": [
    "print(len(port))"
   ]
  },
  {
   "cell_type": "markdown",
   "id": "ea949bdd",
   "metadata": {},
   "source": [
    "****"
   ]
  },
  {
   "cell_type": "code",
   "execution_count": 6,
   "id": "ed3850f2",
   "metadata": {},
   "outputs": [],
   "source": [
    "mylist = [1,2,3,'Hello','World']\n",
    "mysecondlist = ['Thomos','Lara','Julia']"
   ]
  },
  {
   "cell_type": "code",
   "execution_count": 7,
   "id": "9b85cffc",
   "metadata": {},
   "outputs": [],
   "source": [
    "def printloop():\n",
    "    for i in mylist:\n",
    "        print(i)"
   ]
  },
  {
   "cell_type": "code",
   "execution_count": 8,
   "id": "edbc7394",
   "metadata": {},
   "outputs": [
    {
     "name": "stdout",
     "output_type": "stream",
     "text": [
      "1\n",
      "2\n",
      "3\n",
      "Hello\n",
      "World\n"
     ]
    }
   ],
   "source": [
    "printloop()"
   ]
  },
  {
   "cell_type": "code",
   "execution_count": 9,
   "id": "91362840",
   "metadata": {},
   "outputs": [
    {
     "name": "stdout",
     "output_type": "stream",
     "text": [
      "1\n",
      "2\n",
      "3\n",
      "Hello\n",
      "World\n",
      "Thomos\n",
      "Lara\n",
      "Julia\n"
     ]
    }
   ],
   "source": [
    "def printloop(list):\n",
    "    for i in list:\n",
    "        print(i)\n",
    "\n",
    "printloop(mylist)\n",
    "printloop(mysecondlist)"
   ]
  },
  {
   "cell_type": "code",
   "execution_count": 10,
   "id": "bbebbab3",
   "metadata": {},
   "outputs": [
    {
     "name": "stdout",
     "output_type": "stream",
     "text": [
      "This is a value :1\n",
      "This is a value :2\n",
      "This is a value :3\n",
      "This is a value :Hello\n",
      "This is a value :World\n",
      "This is a value :Thomos\n",
      "This is a value :Lara\n",
      "This is a value :Julia\n"
     ]
    }
   ],
   "source": [
    "def printloop(list):\n",
    "    for i in list:\n",
    "        print(\"This is a value :\" + str(i))\n",
    "        \n",
    "printloop(mylist)\n",
    "printloop(mysecondlist)"
   ]
  },
  {
   "cell_type": "code",
   "execution_count": 11,
   "id": "4f752a70",
   "metadata": {},
   "outputs": [],
   "source": [
    "# definations within definations\n",
    "def thisismylist(value):\n",
    "    mylist = [1,2,3,'hello','world']\n",
    "    mylist.append(value)\n",
    "    printloop(mylist)"
   ]
  },
  {
   "cell_type": "code",
   "execution_count": 12,
   "id": "4c035141",
   "metadata": {},
   "outputs": [
    {
     "name": "stdout",
     "output_type": "stream",
     "text": [
      "This is a value :1\n",
      "This is a value :2\n",
      "This is a value :3\n",
      "This is a value :hello\n",
      "This is a value :world\n",
      "This is a value :amjad\n"
     ]
    }
   ],
   "source": [
    "thisismylist('amjad')"
   ]
  },
  {
   "cell_type": "code",
   "execution_count": 13,
   "id": "e2dac909",
   "metadata": {},
   "outputs": [
    {
     "name": "stdout",
     "output_type": "stream",
     "text": [
      "What year is it :2021\n",
      "At what year you were born :1993\n",
      "28\n"
     ]
    }
   ],
   "source": [
    "currentyear = input(\"What year is it :\")\n",
    "yearborn = input(\"At what year you were born :\")\n",
    "\n",
    "try:\n",
    "    print(int(currentyear) - int(yearborn))\n",
    "except(ValueError):\n",
    "    print(\"Input was invalid\")"
   ]
  },
  {
   "cell_type": "code",
   "execution_count": 14,
   "id": "ea180e4e",
   "metadata": {},
   "outputs": [],
   "source": [
    "import numpy as np"
   ]
  },
  {
   "cell_type": "code",
   "execution_count": 15,
   "id": "d9de9d12",
   "metadata": {},
   "outputs": [
    {
     "data": {
      "text/plain": [
       "array([2. , 2.2, 2.4, 2.6, 2.8])"
      ]
     },
     "execution_count": 15,
     "metadata": {},
     "output_type": "execute_result"
    }
   ],
   "source": [
    "np.linspace(2.0,3.0,num=5,endpoint=False)"
   ]
  },
  {
   "cell_type": "code",
   "execution_count": 16,
   "id": "8af287a1",
   "metadata": {},
   "outputs": [
    {
     "data": {
      "text/plain": [
       "(array([2.  , 2.25, 2.5 , 2.75, 3.  ]), 0.25)"
      ]
     },
     "execution_count": 16,
     "metadata": {},
     "output_type": "execute_result"
    }
   ],
   "source": [
    "np.linspace(2.0,3.0,num=5,retstep=True)"
   ]
  },
  {
   "cell_type": "code",
   "execution_count": 17,
   "id": "bb8a484d",
   "metadata": {},
   "outputs": [
    {
     "data": {
      "text/plain": [
       "array([ 100.        ,  215.443469  ,  464.15888336, 1000.        ])"
      ]
     },
     "execution_count": 17,
     "metadata": {},
     "output_type": "execute_result"
    }
   ],
   "source": [
    "np.logspace(2.0,3.0,num=4)"
   ]
  },
  {
   "cell_type": "code",
   "execution_count": 18,
   "id": "a2aa750b",
   "metadata": {},
   "outputs": [
    {
     "data": {
      "text/plain": [
       "array([100.        , 177.827941  , 316.22776602, 562.34132519])"
      ]
     },
     "execution_count": 18,
     "metadata": {},
     "output_type": "execute_result"
    }
   ],
   "source": [
    "np.logspace(2.0,3.0,num=4,endpoint=False)"
   ]
  },
  {
   "cell_type": "markdown",
   "id": "9e8b3464",
   "metadata": {},
   "source": [
    "***"
   ]
  },
  {
   "cell_type": "markdown",
   "id": "3a9a9f8b",
   "metadata": {},
   "source": [
    "## Array"
   ]
  },
  {
   "cell_type": "code",
   "execution_count": 19,
   "id": "a5442f07",
   "metadata": {},
   "outputs": [],
   "source": [
    "from array import *"
   ]
  },
  {
   "cell_type": "code",
   "execution_count": 20,
   "id": "abe8c27d",
   "metadata": {},
   "outputs": [],
   "source": [
    "## if we dont want use arr every time we use \"from function\""
   ]
  },
  {
   "cell_type": "code",
   "execution_count": 21,
   "id": "44d99bbc",
   "metadata": {},
   "outputs": [
    {
     "name": "stdout",
     "output_type": "stream",
     "text": [
      "array('i', [3, 6, 8, 10])\n"
     ]
    }
   ],
   "source": [
    "vals = array(\"i\",[3,6,8,10])\n",
    "print(vals)"
   ]
  },
  {
   "cell_type": "code",
   "execution_count": 22,
   "id": "8c274126",
   "metadata": {},
   "outputs": [
    {
     "name": "stdout",
     "output_type": "stream",
     "text": [
      "5\n",
      "-9\n",
      "6\n",
      "7\n",
      "0\n"
     ]
    }
   ],
   "source": [
    "val = array('i',[5,-9,6,7,0])\n",
    "for e in val:\n",
    "    print(e)"
   ]
  },
  {
   "cell_type": "code",
   "execution_count": 23,
   "id": "5e32327d",
   "metadata": {},
   "outputs": [
    {
     "name": "stdout",
     "output_type": "stream",
     "text": [
      "5\n",
      "-9\n",
      "6\n",
      "7\n",
      "0\n"
     ]
    }
   ],
   "source": [
    "val = array('i',[5,-9,6,7,0])\n",
    "newarr = array(val.typecode,(a for a in val))\n",
    "for e in newarr:\n",
    "    print(e)"
   ]
  },
  {
   "cell_type": "code",
   "execution_count": 24,
   "id": "d0f2ca94",
   "metadata": {},
   "outputs": [
    {
     "name": "stdout",
     "output_type": "stream",
     "text": [
      "25\n",
      "81\n",
      "36\n",
      "49\n",
      "0\n"
     ]
    }
   ],
   "source": [
    "val = array('i',[5,-9,6,7,0])\n",
    "newarr = array(val.typecode,(a*a for a in val))\n",
    "i = 0\n",
    "while i<len(newarr):\n",
    "    print(newarr[i])\n",
    "    i+=1"
   ]
  },
  {
   "cell_type": "code",
   "execution_count": 25,
   "id": "a8f15d65",
   "metadata": {},
   "outputs": [
    {
     "name": "stdout",
     "output_type": "stream",
     "text": [
      "Enter the length of the Range :10\n",
      "Enter the next value :5\n",
      "Enter the next value :5\n",
      "Enter the next value :5\n",
      "Enter the next value :5\n",
      "Enter the next value :5\n",
      "Enter the next value :5\n",
      "Enter the next value :5\n",
      "Enter the next value :5\n",
      "Enter the next value :5\n",
      "Enter the next value :5\n",
      "array('i', [5, 5, 5, 5, 5, 5, 5, 5, 5, 5])\n"
     ]
    }
   ],
   "source": [
    "# if we dont know how many we have to print depends upon the \"user\"\n",
    "arr = array('i',[])\n",
    "n  = int(input(\"Enter the length of the Range :\"))\n",
    "for i in range(n):\n",
    "    x = int(input(\"Enter the next value :\"))\n",
    "    arr.append(x)\n",
    "print(arr)"
   ]
  },
  {
   "cell_type": "code",
   "execution_count": 26,
   "id": "8c540646",
   "metadata": {},
   "outputs": [
    {
     "name": "stdout",
     "output_type": "stream",
     "text": [
      "Enter the length of the Range :5\n",
      "Enter the next value :1\n",
      "Enter the next value :1\n",
      "Enter the next value :1\n",
      "Enter the next value :1\n",
      "Enter the next value :1\n",
      "array('i', [1, 1, 1, 1, 1])\n",
      "Enter the value for search :3\n",
      "Enter the right one\n"
     ]
    }
   ],
   "source": [
    "# if we dont know how many we have to print depends upon the \"user\"\n",
    "arr = array('i',[])\n",
    "n  = int(input(\"Enter the length of the Range :\"))\n",
    "for i in range(n):\n",
    "    x = int(input(\"Enter the next value :\"))\n",
    "    arr.append(x)\n",
    "print(arr)\n",
    "\n",
    "val = int(input(\"Enter the value for search :\"))\n",
    "k=0\n",
    "for e in arr:\n",
    "    if e==val:\n",
    "        print(k)\n",
    "        break\n",
    "    k+=1    \n",
    "else:\n",
    "    print(\"Enter the right one\")\n",
    "    \n",
    "    "
   ]
  },
  {
   "cell_type": "markdown",
   "id": "77504151",
   "metadata": {},
   "source": [
    "***"
   ]
  },
  {
   "cell_type": "markdown",
   "id": "72ae7437",
   "metadata": {},
   "source": [
    "### Functions"
   ]
  },
  {
   "cell_type": "code",
   "execution_count": 27,
   "id": "8664d67a",
   "metadata": {},
   "outputs": [
    {
     "name": "stdout",
     "output_type": "stream",
     "text": [
      "(9, 1)\n"
     ]
    }
   ],
   "source": [
    "def add_sub(x,y):\n",
    "    c = x+y\n",
    "    d = x-y\n",
    "    return c,d\n",
    "    \n",
    "result = add_sub(5,4)\n",
    "print(result)"
   ]
  },
  {
   "cell_type": "code",
   "execution_count": 28,
   "id": "2ceadd54",
   "metadata": {},
   "outputs": [
    {
     "name": "stdout",
     "output_type": "stream",
     "text": [
      "2469981280576\n",
      "2469981280576\n",
      "2469981280576\n",
      "x [10, 25, 30]\n",
      "list [10, 25, 30]\n"
     ]
    }
   ],
   "source": [
    "# placing same memory\n",
    "def update(list):\n",
    "    print(id(list))\n",
    "    list[1] = 25\n",
    "    print(id(list))\n",
    "    print(\"x\" ,list)\n",
    "    \n",
    "list = [10,20,30]\n",
    "print(id(list))\n",
    "update(list)\n",
    "print(\"list\",list)"
   ]
  },
  {
   "cell_type": "code",
   "execution_count": 29,
   "id": "25c84d54",
   "metadata": {},
   "outputs": [
    {
     "name": "stdout",
     "output_type": "stream",
     "text": [
      "a: 5\n",
      "b: (6, 7, 8, 9)\n"
     ]
    }
   ],
   "source": [
    "#to overite the def fuctions\n",
    "def sum(a,*b):\n",
    "    print('a:',a)\n",
    "    print('b:', b)\n",
    "sum(5,6,7,8,9)"
   ]
  },
  {
   "cell_type": "code",
   "execution_count": 30,
   "id": "da98717a",
   "metadata": {},
   "outputs": [
    {
     "name": "stdout",
     "output_type": "stream",
     "text": [
      "a: 5\n",
      "b: (6, 7, 8, 9, 25)\n",
      "c:(a+b) =  60\n"
     ]
    }
   ],
   "source": [
    "def sum(a,*b):\n",
    "    print('a:',a)\n",
    "    print('b:',b)\n",
    "    c = a\n",
    "    for i in b:\n",
    "        c = c + i\n",
    "    print('c:(a+b) = ',c)\n",
    "\n",
    "sum(5,6,7,8,9,25)\n",
    "        "
   ]
  },
  {
   "cell_type": "code",
   "execution_count": 31,
   "id": "980ec08f",
   "metadata": {},
   "outputs": [
    {
     "name": "stdout",
     "output_type": "stream",
     "text": [
      "60\n"
     ]
    }
   ],
   "source": [
    "def sum(*b):\n",
    "    c = 0\n",
    "    for i in b:\n",
    "        c = c + i\n",
    "    print(c)\n",
    "sum(5,6,7,8,9,25)\n",
    "        "
   ]
  },
  {
   "cell_type": "markdown",
   "id": "9327e19d",
   "metadata": {},
   "source": [
    "### if we want to add multiple data we use \" **   \""
   ]
  },
  {
   "cell_type": "code",
   "execution_count": 32,
   "id": "4d65de1b",
   "metadata": {},
   "outputs": [
    {
     "name": "stdout",
     "output_type": "stream",
     "text": [
      "Name: navin\n",
      "age 28\n",
      "city Mumbai\n",
      "mob 9393842525\n"
     ]
    }
   ],
   "source": [
    "def person(name, **data):\n",
    "    print('Name:',name)\n",
    "    \n",
    "    for i,j in data.items():\n",
    "        print(i,j)\n",
    "        \n",
    "person('navin',age= 28,city='Mumbai',mob = 9393842525)"
   ]
  },
  {
   "cell_type": "markdown",
   "id": "8c6c3d0a",
   "metadata": {},
   "source": [
    "### OOPS"
   ]
  },
  {
   "cell_type": "code",
   "execution_count": 33,
   "id": "d48dd922",
   "metadata": {},
   "outputs": [
    {
     "name": "stdout",
     "output_type": "stream",
     "text": [
      "5+2j\n",
      "10+20j\n",
      "<__main__.ComplexNumber object at 0x0000023F165CCD00>\n"
     ]
    }
   ],
   "source": [
    "#printing -->complex numbers x+yj\n",
    "\n",
    "class ComplexNumber:\n",
    "    def __init__(self,real,img):\n",
    "        self.real = real\n",
    "        self.img = img\n",
    "        print(\"{}+{}j\".format(self.real,self.img))\n",
    "num1 = ComplexNumber(5,2)\n",
    "num2 = ComplexNumber(10,20)\n",
    "print(num1) # to print sepecific num we use magical function"
   ]
  },
  {
   "cell_type": "code",
   "execution_count": 34,
   "id": "60a5454f",
   "metadata": {},
   "outputs": [
    {
     "name": "stdout",
     "output_type": "stream",
     "text": [
      "5+2j\n",
      "12+34j\n"
     ]
    }
   ],
   "source": [
    "class ComplexNumber:\n",
    "    def __init__(self,real,img):\n",
    "        self.real = real\n",
    "        self.img = img\n",
    "    def __str__(self):\n",
    "        return \"{}+{}j\".format(self.real,self.img)\n",
    "num1 = ComplexNumber(5,2)\n",
    "num2 = ComplexNumber(12,34)\n",
    "print(num1)\n",
    "print(num2)\n",
    "        "
   ]
  },
  {
   "cell_type": "code",
   "execution_count": 35,
   "id": "a103e3c4",
   "metadata": {},
   "outputs": [
    {
     "name": "stdout",
     "output_type": "stream",
     "text": [
      "5+2j\n",
      "12+34j\n",
      "17+36j\n"
     ]
    }
   ],
   "source": [
    "# adding two numnbers \"num1+num2\"\n",
    "class ComplexNumber:\n",
    "    def __init__(self,real,img):\n",
    "        self.real = real\n",
    "        self.img = img\n",
    "        \n",
    "    def __str__(self):\n",
    "        return \"{}+{}j\".format(self.real,self.img)\n",
    "    \n",
    "    def __add__(self,other):\n",
    "        x = self.real + other.real\n",
    "        y = self.img + other.img\n",
    "        return \"{}+{}j\".format(x,y)\n",
    "\n",
    "num1 = ComplexNumber(5,2)\n",
    "num2 = ComplexNumber(12,34)\n",
    "print(num1)\n",
    "print(num2)\n",
    "print(num1+num2)\n",
    "        "
   ]
  },
  {
   "cell_type": "code",
   "execution_count": 36,
   "id": "be6da826",
   "metadata": {},
   "outputs": [
    {
     "name": "stdout",
     "output_type": "stream",
     "text": [
      "65\n",
      "Hello I am a Car!\n"
     ]
    }
   ],
   "source": [
    "class Car:\n",
    "    def __init__(self,milage,color):\n",
    "        self.milage = milage\n",
    "        self.color = color\n",
    "    def getMilage(self):\n",
    "        return self.milage\n",
    "    def getColor(self):\n",
    "        return self.color\n",
    "    def greet(self):\n",
    "        print(\"Hello I am a Car!\")\n",
    "\n",
    "model1 = Car(65,\"Black\")\n",
    "model2 = Car(45,\"Grey\")\n",
    "print(model1.getMilage())\n",
    "model2.greet()"
   ]
  },
  {
   "cell_type": "markdown",
   "id": "ea53ae8a",
   "metadata": {},
   "source": [
    "### Inheariant Class"
   ]
  },
  {
   "cell_type": "code",
   "execution_count": 37,
   "id": "6f9a882c",
   "metadata": {},
   "outputs": [
    {
     "name": "stdout",
     "output_type": "stream",
     "text": [
      "Making Sound\n"
     ]
    }
   ],
   "source": [
    "class Animals:\n",
    "    def __init__(self,color):\n",
    "        self.color = color\n",
    "    def introduce(self):\n",
    "        print(\"Making sounds\")\n",
    "    def makeSound(self):\n",
    "        print(\"Making Sound\")\n",
    "\n",
    "class Dog:\n",
    "    def __init__(self,color):\n",
    "        self.color = color\n",
    "    def introduce(self):\n",
    "        print(\"Hello I am an Animal\")\n",
    "    def makeSound(self):\n",
    "        print(\"Making Sounds\")\n",
    "        \n",
    "wild_animals = Animals(\"Brown\")\n",
    "puppy = Dog(\"White\")\n",
    "wild_animals.makeSound()\n",
    "    "
   ]
  },
  {
   "cell_type": "code",
   "execution_count": 38,
   "id": "a8b97a63",
   "metadata": {},
   "outputs": [
    {
     "name": "stdout",
     "output_type": "stream",
     "text": [
      "Making Sound\n",
      "Hello i am an Animal\n"
     ]
    }
   ],
   "source": [
    "# Alternate method\n",
    "\n",
    "class Animal:\n",
    "    \n",
    "    def __init__(self,color):\n",
    "        self.color = color\n",
    "        \n",
    "    def introduce(self):\n",
    "        return print(\"Hello i am an Animal\")\n",
    "        \n",
    "    def makeSound(self):\n",
    "        return print(\"Making Sound\")\n",
    "\n",
    "class Dog(Animal):#--->class within a class\n",
    "    \n",
    "    def takeCare(self):\n",
    "        return print(\"I am taking care of you\")\n",
    "        \n",
    "wild_animal = Animal(\"Brown\")\n",
    "puppy = Dog(\"White\")\n",
    "wild_animal.makeSound()\n",
    "puppy.introduce()"
   ]
  },
  {
   "cell_type": "code",
   "execution_count": 39,
   "id": "a627c0b4",
   "metadata": {},
   "outputs": [
    {
     "name": "stdout",
     "output_type": "stream",
     "text": [
      "Making Sound\n",
      "Meow Meow\n"
     ]
    }
   ],
   "source": [
    "class Animal:\n",
    "    \n",
    "    def __init__(self,color):\n",
    "        self.color = color\n",
    "        \n",
    "    def introduce(self):\n",
    "        return print(\"Hello i am an Animal\")\n",
    "        \n",
    "    def makeSound(self):\n",
    "        return print(\"Making Sound\")\n",
    "\n",
    "class Dog(Animal):#--->class within a class\n",
    "    \n",
    "    def takeCare(self):\n",
    "        return print(\"I am taking care of you\")\n",
    "    def makeSound(self):\n",
    "        print(\"Bow Bow\")\n",
    "class Cat(Animal):\n",
    "    def makeSound(self):\n",
    "        print(\"Meow Meow\")\n",
    "    pass\n",
    "        \n",
    "wild_animal = Animal(\"Brown\")\n",
    "puppy = Dog(\"White\")\n",
    "kitten = Cat(\"Black\")\n",
    "wild_animal.makeSound()\n",
    "kitten.makeSound()"
   ]
  },
  {
   "cell_type": "markdown",
   "id": "31fed2fc",
   "metadata": {},
   "source": [
    "### create a text.file"
   ]
  },
  {
   "cell_type": "code",
   "execution_count": 40,
   "id": "6cda8659",
   "metadata": {},
   "outputs": [],
   "source": [
    "with open(\"amjad.txt\",\"w\") as file:\n",
    "    file.writelines(\"Hello everyone this amjad!!!!!!\")"
   ]
  },
  {
   "cell_type": "markdown",
   "id": "51fc30c8",
   "metadata": {},
   "source": [
    "## CSV handling"
   ]
  },
  {
   "cell_type": "code",
   "execution_count": 41,
   "id": "bd4e5cce",
   "metadata": {},
   "outputs": [],
   "source": [
    "import csv"
   ]
  },
  {
   "cell_type": "code",
   "execution_count": 42,
   "id": "2c146c92",
   "metadata": {},
   "outputs": [],
   "source": [
    "with open(\"khan.csv\",\"w\") as file:\n",
    "    write_obj = csv.writer(file)\n",
    "    write_obj.writerow(['Name','Age','Contact no'])\n",
    "    write_obj.writerow(['Amjad','30','9393842525'])"
   ]
  },
  {
   "cell_type": "code",
   "execution_count": 43,
   "id": "49428cb7",
   "metadata": {},
   "outputs": [
    {
     "name": "stdout",
     "output_type": "stream",
     "text": [
      "['Name', 'Age', 'Contact no']\n",
      "[]\n",
      "['Amjad', '30', '9393842525']\n",
      "[]\n"
     ]
    }
   ],
   "source": [
    "with open(\"khan.csv\",\"r\") as file:\n",
    "    read_obj = csv.reader(file)\n",
    "    for i in read_obj:\n",
    "        print(i)\n"
   ]
  },
  {
   "cell_type": "code",
   "execution_count": null,
   "id": "a30ab831",
   "metadata": {},
   "outputs": [],
   "source": []
  }
 ],
 "metadata": {
  "kernelspec": {
   "display_name": "Python 3",
   "language": "python",
   "name": "python3"
  },
  "language_info": {
   "codemirror_mode": {
    "name": "ipython",
    "version": 3
   },
   "file_extension": ".py",
   "mimetype": "text/x-python",
   "name": "python",
   "nbconvert_exporter": "python",
   "pygments_lexer": "ipython3",
   "version": "3.8.8"
  }
 },
 "nbformat": 4,
 "nbformat_minor": 5
}

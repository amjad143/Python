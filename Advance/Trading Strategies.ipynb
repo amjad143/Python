{
 "cells": [
  {
   "cell_type": "markdown",
   "id": "2582b445",
   "metadata": {},
   "source": [
    "## To import the data we use in the below link\n",
    "### https://www.dukascopy.com/swiss/english/home/"
   ]
  },
  {
   "cell_type": "code",
   "execution_count": 1,
   "id": "66ff29b2",
   "metadata": {},
   "outputs": [],
   "source": [
    "import pandas as pd\n",
    "import numpy as np\n",
    "import matplotlib.pyplot as plt\n",
    "import matplotlib.style\n",
    "plt.style.use('ggplot')"
   ]
  },
  {
   "cell_type": "code",
   "execution_count": 2,
   "id": "7ecb0fbb",
   "metadata": {},
   "outputs": [
    {
     "data": {
      "text/html": [
       "<div>\n",
       "<style scoped>\n",
       "    .dataframe tbody tr th:only-of-type {\n",
       "        vertical-align: middle;\n",
       "    }\n",
       "\n",
       "    .dataframe tbody tr th {\n",
       "        vertical-align: top;\n",
       "    }\n",
       "\n",
       "    .dataframe thead th {\n",
       "        text-align: right;\n",
       "    }\n",
       "</style>\n",
       "<table border=\"1\" class=\"dataframe\">\n",
       "  <thead>\n",
       "    <tr style=\"text-align: right;\">\n",
       "      <th></th>\n",
       "      <th>Local time</th>\n",
       "      <th>Open</th>\n",
       "      <th>High</th>\n",
       "      <th>Low</th>\n",
       "      <th>Close</th>\n",
       "      <th>Volume</th>\n",
       "    </tr>\n",
       "  </thead>\n",
       "  <tbody>\n",
       "    <tr>\n",
       "      <th>0</th>\n",
       "      <td>31.05.2019 23:30:00.000 GMT+0530</td>\n",
       "      <td>0.69380</td>\n",
       "      <td>0.69447</td>\n",
       "      <td>0.69374</td>\n",
       "      <td>0.69396</td>\n",
       "      <td>5058.6099</td>\n",
       "    </tr>\n",
       "    <tr>\n",
       "      <th>1</th>\n",
       "      <td>01.06.2019 00:30:00.000 GMT+0530</td>\n",
       "      <td>0.69395</td>\n",
       "      <td>0.69395</td>\n",
       "      <td>0.69349</td>\n",
       "      <td>0.69378</td>\n",
       "      <td>5364.0000</td>\n",
       "    </tr>\n",
       "    <tr>\n",
       "      <th>2</th>\n",
       "      <td>01.06.2019 01:30:00.000 GMT+0530</td>\n",
       "      <td>0.69376</td>\n",
       "      <td>0.69384</td>\n",
       "      <td>0.69333</td>\n",
       "      <td>0.69384</td>\n",
       "      <td>2167.3799</td>\n",
       "    </tr>\n",
       "    <tr>\n",
       "      <th>3</th>\n",
       "      <td>01.06.2019 02:30:00.000 GMT+0530</td>\n",
       "      <td>0.69384</td>\n",
       "      <td>0.69384</td>\n",
       "      <td>0.69384</td>\n",
       "      <td>0.69384</td>\n",
       "      <td>0.0000</td>\n",
       "    </tr>\n",
       "    <tr>\n",
       "      <th>4</th>\n",
       "      <td>01.06.2019 03:30:00.000 GMT+0530</td>\n",
       "      <td>0.69384</td>\n",
       "      <td>0.69384</td>\n",
       "      <td>0.69384</td>\n",
       "      <td>0.69384</td>\n",
       "      <td>0.0000</td>\n",
       "    </tr>\n",
       "    <tr>\n",
       "      <th>...</th>\n",
       "      <td>...</td>\n",
       "      <td>...</td>\n",
       "      <td>...</td>\n",
       "      <td>...</td>\n",
       "      <td>...</td>\n",
       "      <td>...</td>\n",
       "    </tr>\n",
       "    <tr>\n",
       "      <th>8924</th>\n",
       "      <td>06.06.2020 19:30:00.000 GMT+0530</td>\n",
       "      <td>0.69709</td>\n",
       "      <td>0.69709</td>\n",
       "      <td>0.69709</td>\n",
       "      <td>0.69709</td>\n",
       "      <td>0.0000</td>\n",
       "    </tr>\n",
       "    <tr>\n",
       "      <th>8925</th>\n",
       "      <td>06.06.2020 20:30:00.000 GMT+0530</td>\n",
       "      <td>0.69709</td>\n",
       "      <td>0.69709</td>\n",
       "      <td>0.69709</td>\n",
       "      <td>0.69709</td>\n",
       "      <td>0.0000</td>\n",
       "    </tr>\n",
       "    <tr>\n",
       "      <th>8926</th>\n",
       "      <td>06.06.2020 21:30:00.000 GMT+0530</td>\n",
       "      <td>0.69709</td>\n",
       "      <td>0.69709</td>\n",
       "      <td>0.69709</td>\n",
       "      <td>0.69709</td>\n",
       "      <td>0.0000</td>\n",
       "    </tr>\n",
       "    <tr>\n",
       "      <th>8927</th>\n",
       "      <td>06.06.2020 22:30:00.000 GMT+0530</td>\n",
       "      <td>0.69709</td>\n",
       "      <td>0.69709</td>\n",
       "      <td>0.69709</td>\n",
       "      <td>0.69709</td>\n",
       "      <td>0.0000</td>\n",
       "    </tr>\n",
       "    <tr>\n",
       "      <th>8928</th>\n",
       "      <td>06.06.2020 23:30:00.000 GMT+0530</td>\n",
       "      <td>0.69709</td>\n",
       "      <td>0.69709</td>\n",
       "      <td>0.69709</td>\n",
       "      <td>0.69709</td>\n",
       "      <td>0.0000</td>\n",
       "    </tr>\n",
       "  </tbody>\n",
       "</table>\n",
       "<p>8929 rows × 6 columns</p>\n",
       "</div>"
      ],
      "text/plain": [
       "                            Local time     Open     High      Low    Close  \\\n",
       "0     31.05.2019 23:30:00.000 GMT+0530  0.69380  0.69447  0.69374  0.69396   \n",
       "1     01.06.2019 00:30:00.000 GMT+0530  0.69395  0.69395  0.69349  0.69378   \n",
       "2     01.06.2019 01:30:00.000 GMT+0530  0.69376  0.69384  0.69333  0.69384   \n",
       "3     01.06.2019 02:30:00.000 GMT+0530  0.69384  0.69384  0.69384  0.69384   \n",
       "4     01.06.2019 03:30:00.000 GMT+0530  0.69384  0.69384  0.69384  0.69384   \n",
       "...                                ...      ...      ...      ...      ...   \n",
       "8924  06.06.2020 19:30:00.000 GMT+0530  0.69709  0.69709  0.69709  0.69709   \n",
       "8925  06.06.2020 20:30:00.000 GMT+0530  0.69709  0.69709  0.69709  0.69709   \n",
       "8926  06.06.2020 21:30:00.000 GMT+0530  0.69709  0.69709  0.69709  0.69709   \n",
       "8927  06.06.2020 22:30:00.000 GMT+0530  0.69709  0.69709  0.69709  0.69709   \n",
       "8928  06.06.2020 23:30:00.000 GMT+0530  0.69709  0.69709  0.69709  0.69709   \n",
       "\n",
       "         Volume  \n",
       "0     5058.6099  \n",
       "1     5364.0000  \n",
       "2     2167.3799  \n",
       "3        0.0000  \n",
       "4        0.0000  \n",
       "...         ...  \n",
       "8924     0.0000  \n",
       "8925     0.0000  \n",
       "8926     0.0000  \n",
       "8927     0.0000  \n",
       "8928     0.0000  \n",
       "\n",
       "[8929 rows x 6 columns]"
      ]
     },
     "execution_count": 2,
     "metadata": {},
     "output_type": "execute_result"
    }
   ],
   "source": [
    "df = pd.read_csv(\"AUDUSD.csv\")\n",
    "df"
   ]
  },
  {
   "cell_type": "code",
   "execution_count": 3,
   "id": "544f406f",
   "metadata": {},
   "outputs": [
    {
     "data": {
      "text/plain": [
       "[<matplotlib.lines.Line2D at 0x159ef5e1130>]"
      ]
     },
     "execution_count": 3,
     "metadata": {},
     "output_type": "execute_result"
    },
    {
     "data": {
      "image/png": "[encoded data removed]",
      "text/plain": [
       "<Figure size 1872x576 with 1 Axes>"
      ]
     },
     "metadata": {},
     "output_type": "display_data"
    }
   ],
   "source": [
    "plt.figure(figsize = [26,8])\n",
    "plt.plot(df['Close'])"
   ]
  },
  {
   "cell_type": "markdown",
   "id": "19508df3",
   "metadata": {},
   "source": [
    "***"
   ]
  },
  {
   "cell_type": "markdown",
   "id": "f67e8004",
   "metadata": {},
   "source": [
    "## To install fxcm data we use library\n",
    "\n",
    "### https://www.fxcm.com/fxcmpy/00_quick_start.html\n",
    "### https://www.fxcm.com/markets/forex-trading-demo/"
   ]
  },
  {
   "cell_type": "code",
   "execution_count": 4,
   "id": "2c907406",
   "metadata": {},
   "outputs": [
    {
     "name": "stdout",
     "output_type": "stream",
     "text": [
      "Requirement already satisfied: fxcmpy in c:\\users\\user\\anaconda3\\lib\\site-packages (1.2.9)\n",
      "Requirement already satisfied: python-socketio in c:\\users\\user\\anaconda3\\lib\\site-packages (from fxcmpy) (4.6.1)\n",
      "Requirement already satisfied: python-engineio in c:\\users\\user\\anaconda3\\lib\\site-packages (from fxcmpy) (3.14.2)\n",
      "Requirement already satisfied: pandas in c:\\users\\user\\anaconda3\\lib\\site-packages (from fxcmpy) (1.2.4)\n",
      "Requirement already satisfied: configparser in c:\\users\\user\\anaconda3\\lib\\site-packages (from fxcmpy) (5.0.2)\n",
      "Requirement already satisfied: requests[socks] in c:\\users\\user\\anaconda3\\lib\\site-packages (from fxcmpy) (2.25.1)\n",
      "Requirement already satisfied: numpy>=1.16.5 in c:\\users\\user\\anaconda3\\lib\\site-packages (from pandas->fxcmpy) (1.20.1)\n",
      "Requirement already satisfied: python-dateutil>=2.7.3 in c:\\users\\user\\anaconda3\\lib\\site-packages (from pandas->fxcmpy) (2.8.1)\n",
      "Requirement already satisfied: pytz>=2017.3 in c:\\users\\user\\anaconda3\\lib\\site-packages (from pandas->fxcmpy) (2021.1)\n",
      "Requirement already satisfied: six>=1.5 in c:\\users\\user\\anaconda3\\lib\\site-packages (from python-dateutil>=2.7.3->pandas->fxcmpy) (1.15.0)\n",
      "Requirement already satisfied: certifi>=2017.4.17 in c:\\users\\user\\anaconda3\\lib\\site-packages (from requests[socks]->fxcmpy) (2020.12.5)\n",
      "Requirement already satisfied: idna<3,>=2.5 in c:\\users\\user\\anaconda3\\lib\\site-packages (from requests[socks]->fxcmpy) (2.10)\n",
      "Requirement already satisfied: chardet<5,>=3.0.2 in c:\\users\\user\\anaconda3\\lib\\site-packages (from requests[socks]->fxcmpy) (4.0.0)\n",
      "Requirement already satisfied: urllib3<1.27,>=1.21.1 in c:\\users\\user\\anaconda3\\lib\\site-packages (from requests[socks]->fxcmpy) (1.26.4)\n",
      "Requirement already satisfied: PySocks!=1.5.7,>=1.5.6 in c:\\users\\user\\anaconda3\\lib\\site-packages (from requests[socks]->fxcmpy) (1.7.1)\n"
     ]
    }
   ],
   "source": [
    "!pip install fxcmpy"
   ]
  },
  {
   "cell_type": "code",
   "execution_count": 5,
   "id": "c71365be",
   "metadata": {},
   "outputs": [
    {
     "name": "stdout",
     "output_type": "stream",
     "text": [
      "Requirement already satisfied: python-socketio in c:\\users\\user\\anaconda3\\lib\\site-packages (4.6.1)\n",
      "Requirement already satisfied: python-engineio<4,>=3.13.0 in c:\\users\\user\\anaconda3\\lib\\site-packages (from python-socketio) (3.14.2)\n",
      "Requirement already satisfied: six>=1.9.0 in c:\\users\\user\\anaconda3\\lib\\site-packages (from python-socketio) (1.15.0)\n"
     ]
    }
   ],
   "source": [
    "!pip3 install python-socketio"
   ]
  },
  {
   "cell_type": "code",
   "execution_count": 6,
   "id": "51af70ed",
   "metadata": {},
   "outputs": [],
   "source": [
    "import fxcmpy\n",
    "import socketio\n",
    "import numpy as np\n",
    "import pandas as pd\n",
    "import datetime\n",
    "import matplotlib.pyplot as plt\n",
    "import matplotlib.style\n",
    "\n",
    "plt.style.use('ggplot')"
   ]
  },
  {
   "cell_type": "markdown",
   "id": "1318bdaf",
   "metadata": {},
   "source": [
    "### First we need to instilised our API connection\n",
    "### if we have any more data set we search on \"fxcmpy\" documentation\n"
   ]
  },
  {
   "cell_type": "code",
   "execution_count": 7,
   "id": "aba85049",
   "metadata": {},
   "outputs": [
    {
     "name": "stdout",
     "output_type": "stream",
     "text": [
      "Requirement already satisfied: python-socketio==4.6.1 in c:\\users\\user\\anaconda3\\lib\\site-packages (4.6.1)\n",
      "Requirement already satisfied: six>=1.9.0 in c:\\users\\user\\anaconda3\\lib\\site-packages (from python-socketio==4.6.1) (1.15.0)\n",
      "Requirement already satisfied: python-engineio<4,>=3.13.0 in c:\\users\\user\\anaconda3\\lib\\site-packages (from python-socketio==4.6.1) (3.14.2)\n"
     ]
    }
   ],
   "source": [
    "!pip install python-socketio==4.6.1"
   ]
  },
  {
   "cell_type": "code",
   "execution_count": 8,
   "id": "631a21d7",
   "metadata": {},
   "outputs": [],
   "source": [
    "#token_path = 'Key.txt'\n",
    "#con = fxcmpy.fxcmpy(access_token=open(token_path,'r').read(), log_level='error', server='demo')"
   ]
  },
  {
   "cell_type": "code",
   "execution_count": null,
   "id": "7b793780",
   "metadata": {},
   "outputs": [],
   "source": []
  }
 ],
 "metadata": {
  "kernelspec": {
   "display_name": "Python 3",
   "language": "python",
   "name": "python3"
  },
  "language_info": {
   "codemirror_mode": {
    "name": "ipython",
    "version": 3
   },
   "file_extension": ".py",
   "mimetype": "text/x-python",
   "name": "python",
   "nbconvert_exporter": "python",
   "pygments_lexer": "ipython3",
   "version": "3.8.8"
  }
 },
 "nbformat": 4,
 "nbformat_minor": 5
}
